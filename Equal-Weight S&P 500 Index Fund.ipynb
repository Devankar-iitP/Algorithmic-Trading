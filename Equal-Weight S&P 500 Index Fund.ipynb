{
 "cells": [
  {
   "cell_type": "markdown",
   "metadata": {},
   "source": [
    "# Equal-Weight S&P 500 Index Fund\n",
    "\n",
    "## Introduction & Library Imports\n",
    "\n",
    "The S&P 500 is the world's most popular stock market index that measures the stock performance of the top 500 large companies listed on stock exchange in the US. It's widely regarded as one of the best indicators and is often used as a benchmark for the overall performance of the stock market. Several investors and analysts use this to track the health of the U.S. economy and make suitable investment decisions.\n",
    "\n",
    "S&P 500 is the market capitalization (or size) weighted. Thus, the larger the company, the greater the weight in the index.\n",
    "It's not necessarily to be exactly 500 companies because some companies may have multiple share classes like Google-A, Google-C.\n",
    "\n",
    "But, I will be dicussing a variant of this widely-used S&P 500 index, which is \"Equal Weight S&P 500\". In this equal-weight version, each company in the index is allocated a fixed weight of 0.2% of the total index at each quarterly rebalance.\n",
    "- It provides a more balanced diversification by reducing concentration risk\n",
    "- This approach can outperform when the smaller companies excel compared to the capital-weighted index\n",
    "- The index is rebalanced quarterly to maintain equal weighting\n",
    "\n",
    "## Library Imports\n",
    "\n",
    "Firstly, let's import the open-source python libraries that I will be using in this project."
   ]
  },
  {
   "cell_type": "code",
   "execution_count": 64,
   "metadata": {
    "scrolled": true
   },
   "outputs": [],
   "source": [
    "import numpy as np\n",
    "import pandas as pd\n",
    "import requests\n",
    "import xlsxwriter\n",
    "import math"
   ]
  },
  {
   "cell_type": "markdown",
   "metadata": {},
   "source": [
    "## Importing the List of Stocks\n",
    "\n",
    "The next thing, is to import the constituents of the S&P 500 on which whole analysis will be build upon.\n",
    "\n",
    "For simplicity, I will be using the static version of the S&P 500 constituents.\n",
    "Download the ***sp_500_stocks.csv*** from the Github page.\n",
    "\n",
    "#### NOTE - pandas.read_csv('xyz.csv') => read data in form of csv and store it in pandas data frame\n",
    "   "
   ]
  },
  {
   "cell_type": "code",
   "execution_count": 65,
   "metadata": {
    "scrolled": true
   },
   "outputs": [
    {
     "data": {
      "text/html": [
       "<div>\n",
       "<style scoped>\n",
       "    .dataframe tbody tr th:only-of-type {\n",
       "        vertical-align: middle;\n",
       "    }\n",
       "\n",
       "    .dataframe tbody tr th {\n",
       "        vertical-align: top;\n",
       "    }\n",
       "\n",
       "    .dataframe thead th {\n",
       "        text-align: right;\n",
       "    }\n",
       "</style>\n",
       "<table border=\"1\" class=\"dataframe\">\n",
       "  <thead>\n",
       "    <tr style=\"text-align: right;\">\n",
       "      <th></th>\n",
       "      <th>Ticker</th>\n",
       "    </tr>\n",
       "  </thead>\n",
       "  <tbody>\n",
       "    <tr>\n",
       "      <th>0</th>\n",
       "      <td>A</td>\n",
       "    </tr>\n",
       "    <tr>\n",
       "      <th>1</th>\n",
       "      <td>AAL</td>\n",
       "    </tr>\n",
       "    <tr>\n",
       "      <th>2</th>\n",
       "      <td>AAP</td>\n",
       "    </tr>\n",
       "    <tr>\n",
       "      <th>3</th>\n",
       "      <td>AAPL</td>\n",
       "    </tr>\n",
       "    <tr>\n",
       "      <th>4</th>\n",
       "      <td>ABBV</td>\n",
       "    </tr>\n",
       "    <tr>\n",
       "      <th>...</th>\n",
       "      <td>...</td>\n",
       "    </tr>\n",
       "    <tr>\n",
       "      <th>491</th>\n",
       "      <td>YUM</td>\n",
       "    </tr>\n",
       "    <tr>\n",
       "      <th>492</th>\n",
       "      <td>ZBH</td>\n",
       "    </tr>\n",
       "    <tr>\n",
       "      <th>493</th>\n",
       "      <td>ZBRA</td>\n",
       "    </tr>\n",
       "    <tr>\n",
       "      <th>494</th>\n",
       "      <td>ZION</td>\n",
       "    </tr>\n",
       "    <tr>\n",
       "      <th>495</th>\n",
       "      <td>ZTS</td>\n",
       "    </tr>\n",
       "  </tbody>\n",
       "</table>\n",
       "<p>496 rows × 1 columns</p>\n",
       "</div>"
      ],
      "text/plain": [
       "    Ticker\n",
       "0        A\n",
       "1      AAL\n",
       "2      AAP\n",
       "3     AAPL\n",
       "4     ABBV\n",
       "..     ...\n",
       "491    YUM\n",
       "492    ZBH\n",
       "493   ZBRA\n",
       "494   ZION\n",
       "495    ZTS\n",
       "\n",
       "[496 rows x 1 columns]"
      ]
     },
     "execution_count": 65,
     "metadata": {},
     "output_type": "execute_result"
    }
   ],
   "source": [
    "stocks = pd.read_csv('sp_500_stocks.csv')\n",
    "stocks"
   ]
  },
  {
   "cell_type": "markdown",
   "metadata": {},
   "source": [
    "## Acquiring an API Token\n",
    "\n",
    "Now it's time to import the IEX Cloud API token. This is the data provider through which I will extract the required data.\n",
    "\n",
    "##### NOTE : - API tokens (and other sensitive information) should be stored in a `secrets.py` or `.gitignore` file that doesn't get pushed to your remote Git repository. Use sandbox API token to randomly-generated the data. This was free earlier but now, can be used under the free trial option.\n",
    "\n",
    "For `secrets.py` file, move it to the same directory as this Jupyter Notebook before proceeding."
   ]
  },
  {
   "cell_type": "code",
   "execution_count": 66,
   "metadata": {},
   "outputs": [],
   "source": [
    "IEX_CLOUD_API_TOKEN = \"pk_9cb6a39b4a834a2da6a683c795c0346f\""
   ]
  },
  {
   "cell_type": "markdown",
   "metadata": {},
   "source": [
    "## Making my First API Call\n",
    "\n",
    "Now it's time to structure the API calls to the IEX cloud server. \n",
    "\n",
    "Here, I have extracted all of the data with respect to the stock of \"APPLE\" name 'AAPL' in json format."
   ]
  },
  {
   "cell_type": "code",
   "execution_count": 67,
   "metadata": {
    "scrolled": true
   },
   "outputs": [
    {
     "data": {
      "text/plain": [
       "{'avgTotalVolume': 58657720,\n",
       " 'calculationPrice': 'tops',\n",
       " 'change': 2.33,\n",
       " 'changePercent': 0.01261,\n",
       " 'close': None,\n",
       " 'closeSource': 'official',\n",
       " 'closeTime': None,\n",
       " 'companyName': 'Apple Inc',\n",
       " 'currency': 'USD',\n",
       " 'delayedPrice': None,\n",
       " 'delayedPriceTime': None,\n",
       " 'extendedChange': None,\n",
       " 'extendedChangePercent': None,\n",
       " 'extendedPrice': None,\n",
       " 'extendedPriceTime': None,\n",
       " 'high': None,\n",
       " 'highSource': None,\n",
       " 'highTime': None,\n",
       " 'iexAskPrice': 187.14,\n",
       " 'iexAskSize': 200,\n",
       " 'iexBidPrice': 187.13,\n",
       " 'iexBidSize': 100,\n",
       " 'iexClose': 187.13,\n",
       " 'iexCloseTime': 1699989297850,\n",
       " 'iexLastUpdated': 1699989297850,\n",
       " 'iexMarketPercent': 0.0268030308912569,\n",
       " 'iexOpen': 187.69,\n",
       " 'iexOpenTime': 1699972200222,\n",
       " 'iexRealtimePrice': 187.13,\n",
       " 'iexRealtimeSize': 1,\n",
       " 'iexVolume': 920982,\n",
       " 'lastTradeTime': 1699989297850,\n",
       " 'latestPrice': 187.13,\n",
       " 'latestSource': 'IEX real time price',\n",
       " 'latestTime': '2:14:57 PM',\n",
       " 'latestUpdate': 1699989297850,\n",
       " 'latestVolume': None,\n",
       " 'low': None,\n",
       " 'lowSource': None,\n",
       " 'lowTime': None,\n",
       " 'marketCap': 2910386481760,\n",
       " 'oddLotDelayedPrice': None,\n",
       " 'oddLotDelayedPriceTime': None,\n",
       " 'open': None,\n",
       " 'openTime': None,\n",
       " 'openSource': 'official',\n",
       " 'peRatio': 30.53,\n",
       " 'previousClose': 184.8,\n",
       " 'previousVolume': 43627519,\n",
       " 'primaryExchange': 'NASDAQ',\n",
       " 'symbol': 'AAPL',\n",
       " 'volume': None,\n",
       " 'week52High': 197.18,\n",
       " 'week52Low': 123.15,\n",
       " 'ytdChange': 0.44668225302994347,\n",
       " 'isUSMarketOpen': True}"
      ]
     },
     "execution_count": 67,
     "metadata": {},
     "output_type": "execute_result"
    }
   ],
   "source": [
    "name='AAPL'\n",
    "api_url = f'https://api.iex.cloud/v1/stock/{name}/quote/?token={IEX_CLOUD_API_TOKEN}'\n",
    "data=requests.get(api_url).json()\n",
    "data"
   ]
  },
  {
   "cell_type": "markdown",
   "metadata": {},
   "source": [
    "## Parsing the API Call\n",
    "\n",
    "The API call generated earlier in the previous code block has all the information related to that particular stock. Out of which, many are unnecessary data and has no use in building our equal-weight S&P 500 strategy. \n",
    "\n",
    "We need to only extract the following information from the API:\n",
    "\n",
    "* Market capitalization for each stock\n",
    "* Price of each stock\n",
    "\n",
    "With that said, the data isn't in a proper format yet. Parse it first."
   ]
  },
  {
   "cell_type": "code",
   "execution_count": 68,
   "metadata": {},
   "outputs": [],
   "source": [
    "price=data['latestPrice']\n",
    "market_cap=data['marketCap']"
   ]
  },
  {
   "cell_type": "markdown",
   "metadata": {},
   "source": [
    "## Adding the Stocks Data to Pandas DataFrame\n",
    "\n",
    "The next thing is to add the above generated data, which is the stock's price and its market capitalization, to Pandas DataFrame. It is like the Python version of a spreadsheet for better visualisation. It stands for panel data and makes it easy to work with tabular data in python for easy data analysis.\n",
    "\n",
    "Pandas DataFrame refers to the data structure of pandas that stores tabular data (2-D).\n",
    "Pandas series refers to the data structure of pandas that stores data in 1-D.\n",
    "\n",
    "Here, I am showing on how to create the column header."
   ]
  },
  {
   "cell_type": "code",
   "execution_count": 69,
   "metadata": {
    "scrolled": false
   },
   "outputs": [
    {
     "data": {
      "text/html": [
       "<div>\n",
       "<style scoped>\n",
       "    .dataframe tbody tr th:only-of-type {\n",
       "        vertical-align: middle;\n",
       "    }\n",
       "\n",
       "    .dataframe tbody tr th {\n",
       "        vertical-align: top;\n",
       "    }\n",
       "\n",
       "    .dataframe thead th {\n",
       "        text-align: right;\n",
       "    }\n",
       "</style>\n",
       "<table border=\"1\" class=\"dataframe\">\n",
       "  <thead>\n",
       "    <tr style=\"text-align: right;\">\n",
       "      <th></th>\n",
       "      <th>Ticker</th>\n",
       "      <th>Stock Price</th>\n",
       "      <th>Market Capitalization</th>\n",
       "      <th>Number of shares to Buy</th>\n",
       "    </tr>\n",
       "  </thead>\n",
       "  <tbody>\n",
       "  </tbody>\n",
       "</table>\n",
       "</div>"
      ],
      "text/plain": [
       "Empty DataFrame\n",
       "Columns: [Ticker, Stock Price, Market Capitalization, Number of shares to Buy]\n",
       "Index: []"
      ]
     },
     "execution_count": 69,
     "metadata": {},
     "output_type": "execute_result"
    }
   ],
   "source": [
    "my_columns = [ 'Ticker', 'Stock Price', 'Market Capitalization', 'Number of shares to Buy']\n",
    "new_dataFrame = pd.DataFrame(columns = my_columns)\n",
    "new_dataFrame"
   ]
  },
  {
   "cell_type": "markdown",
   "metadata": {},
   "source": [
    "`data[row-index][column-index]` & `data.loc[row-index, 'column-label']`\n",
    "\n",
    "Both of the commands give the same result but still .loc is much better than the chain operation [ ] because in the first one, two operations happen one after another consecutively. Whereas in .loc both operations happen simulatneously, resulting in faster execution.\n",
    "\n",
    "Here, only addition of 1 stock is shown. \n",
    "#### NOTE - we are overwriting the value of new_dataFrame and loc[len(..)] - adds the column to the very last row "
   ]
  },
  {
   "cell_type": "code",
   "execution_count": 70,
   "metadata": {
    "scrolled": false
   },
   "outputs": [
    {
     "data": {
      "text/html": [
       "<div>\n",
       "<style scoped>\n",
       "    .dataframe tbody tr th:only-of-type {\n",
       "        vertical-align: middle;\n",
       "    }\n",
       "\n",
       "    .dataframe tbody tr th {\n",
       "        vertical-align: top;\n",
       "    }\n",
       "\n",
       "    .dataframe thead th {\n",
       "        text-align: right;\n",
       "    }\n",
       "</style>\n",
       "<table border=\"1\" class=\"dataframe\">\n",
       "  <thead>\n",
       "    <tr style=\"text-align: right;\">\n",
       "      <th></th>\n",
       "      <th>Ticker</th>\n",
       "      <th>Stock Price</th>\n",
       "      <th>Market Capitalization</th>\n",
       "      <th>Number of shares to Buy</th>\n",
       "    </tr>\n",
       "  </thead>\n",
       "  <tbody>\n",
       "    <tr>\n",
       "      <th>0</th>\n",
       "      <td>AAPL</td>\n",
       "      <td>187.13</td>\n",
       "      <td>2910386481760</td>\n",
       "      <td>N/A</td>\n",
       "    </tr>\n",
       "  </tbody>\n",
       "</table>\n",
       "</div>"
      ],
      "text/plain": [
       "  Ticker  Stock Price  Market Capitalization Number of shares to Buy\n",
       "0   AAPL       187.13          2910386481760                     N/A"
      ]
     },
     "execution_count": 70,
     "metadata": {},
     "output_type": "execute_result"
    }
   ],
   "source": [
    "new_dataFrame = pd.DataFrame(columns = my_columns)\n",
    "new_columns=[name,price,market_cap,'N/A']\n",
    "new_dataFrame.loc[len(new_dataFrame)] = new_columns\n",
    "new_dataFrame"
   ]
  },
  {
   "cell_type": "markdown",
   "metadata": {},
   "source": [
    "## Looping Through The Tickers in List of Stocks\n",
    "\n",
    "Using the same logic outlined above, pull data for all S&P 500 stocks and store them in the DataFrame using a `for` loop.\n",
    "\n",
    "stocks has already been created when importing from sp_500_stocks.csv\n",
    "#### NOTE - This process is very slow and may take very long time. That's why doing only for first four."
   ]
  },
  {
   "cell_type": "code",
   "execution_count": 71,
   "metadata": {
    "scrolled": true
   },
   "outputs": [
    {
     "data": {
      "text/html": [
       "<div>\n",
       "<style scoped>\n",
       "    .dataframe tbody tr th:only-of-type {\n",
       "        vertical-align: middle;\n",
       "    }\n",
       "\n",
       "    .dataframe tbody tr th {\n",
       "        vertical-align: top;\n",
       "    }\n",
       "\n",
       "    .dataframe thead th {\n",
       "        text-align: right;\n",
       "    }\n",
       "</style>\n",
       "<table border=\"1\" class=\"dataframe\">\n",
       "  <thead>\n",
       "    <tr style=\"text-align: right;\">\n",
       "      <th></th>\n",
       "      <th>Ticker</th>\n",
       "      <th>Stock Price</th>\n",
       "      <th>Market Capitalization</th>\n",
       "      <th>Number of shares to Buy</th>\n",
       "    </tr>\n",
       "  </thead>\n",
       "  <tbody>\n",
       "    <tr>\n",
       "      <th>0</th>\n",
       "      <td>A</td>\n",
       "      <td>111.370</td>\n",
       "      <td>32585444594</td>\n",
       "      <td>N/A</td>\n",
       "    </tr>\n",
       "    <tr>\n",
       "      <th>1</th>\n",
       "      <td>AAL</td>\n",
       "      <td>12.265</td>\n",
       "      <td>8015674846</td>\n",
       "      <td>N/A</td>\n",
       "    </tr>\n",
       "    <tr>\n",
       "      <th>2</th>\n",
       "      <td>AAP</td>\n",
       "      <td>58.630</td>\n",
       "      <td>3486741402</td>\n",
       "      <td>N/A</td>\n",
       "    </tr>\n",
       "    <tr>\n",
       "      <th>3</th>\n",
       "      <td>AAPL</td>\n",
       "      <td>187.130</td>\n",
       "      <td>2910386481760</td>\n",
       "      <td>N/A</td>\n",
       "    </tr>\n",
       "  </tbody>\n",
       "</table>\n",
       "</div>"
      ],
      "text/plain": [
       "  Ticker  Stock Price  Market Capitalization Number of shares to Buy\n",
       "0      A      111.370            32585444594                     N/A\n",
       "1    AAL       12.265             8015674846                     N/A\n",
       "2    AAP       58.630             3486741402                     N/A\n",
       "3   AAPL      187.130          2910386481760                     N/A"
      ]
     },
     "execution_count": 71,
     "metadata": {},
     "output_type": "execute_result"
    }
   ],
   "source": [
    "new_dataFrame = pd.DataFrame(columns = my_columns)\n",
    "for name in stocks['Ticker'][:4] : \n",
    "    api_url = f'https://api.iex.cloud/v1/stock/{name}/quote/?token={IEX_CLOUD_API_TOKEN}'\n",
    "    data=requests.get(api_url).json()\n",
    "    new_columns=[name,data['latestPrice'],data['marketCap'],'N/A']\n",
    "    new_dataFrame.loc[len(new_dataFrame)] = new_columns\n",
    "new_dataFrame"
   ]
  },
  {
   "cell_type": "markdown",
   "metadata": {},
   "source": [
    "## Using Batch API Calls to Improve Performance\n",
    "\n",
    "Batch API calls are one of the easiest ways to improve the performance of the code.\n",
    "This is because HTTP requests are typically one of the slowest components of a script.\n",
    "\n",
    "Also, API providers will often give you discounted rates for using batch API calls since they are easier for the API provider to respond to and cost-effective.\n",
    "\n",
    "IEX Cloud limits their batch API calls to 100 tickers per request. Still, this reduces the number of API calls from 500 to 5 - huge improvement! \n",
    "\n",
    "Let's split the list of stocks into groups of 100 and then make a batch API call for each group."
   ]
  },
  {
   "cell_type": "markdown",
   "metadata": {},
   "source": [
    "Partition function works like :\n",
    "- It iterates over the list in steps of n using a for loop.\n",
    "- In each iteration, it yields a chunk of the list starting from the current index i up to i + n.\n",
    "\n",
    "If I’ve executed for list [1, 2, 3, 4, 5, 6, 7, 8, 9] and a partition size of 3. Then, first 1, 2, 3 forms a list. Followed by 4, 5, 6 and so on... resulting in a list of list."
   ]
  },
  {
   "cell_type": "markdown",
   "metadata": {},
   "source": [
    "Now, you might ask why use yield ?? We could have directly appended list.\n",
    "\n",
    "Well, it's a good practice to use yield as it provides better memory management because it takes only one item at a time and moves forward and delete the current one. If you have to access the previous then again generate yield. "
   ]
  },
  {
   "cell_type": "code",
   "execution_count": 72,
   "metadata": {
    "scrolled": true
   },
   "outputs": [],
   "source": [
    "def partition(list_name, n):\n",
    "#Yield successive n-sized partition from list\n",
    "\n",
    "    for i in range(0, len(list_name), n):\n",
    "        yield list_name[i:i + n]"
   ]
  },
  {
   "cell_type": "markdown",
   "metadata": {},
   "source": [
    "use next() to go to the next object\n",
    "\n",
    "use list() to take all object at once --> like next is used till yield ends"
   ]
  },
  {
   "cell_type": "code",
   "execution_count": 73,
   "metadata": {
    "scrolled": false
   },
   "outputs": [
    {
     "data": {
      "text/html": [
       "<div>\n",
       "<style scoped>\n",
       "    .dataframe tbody tr th:only-of-type {\n",
       "        vertical-align: middle;\n",
       "    }\n",
       "\n",
       "    .dataframe tbody tr th {\n",
       "        vertical-align: top;\n",
       "    }\n",
       "\n",
       "    .dataframe thead th {\n",
       "        text-align: right;\n",
       "    }\n",
       "</style>\n",
       "<table border=\"1\" class=\"dataframe\">\n",
       "  <thead>\n",
       "    <tr style=\"text-align: right;\">\n",
       "      <th></th>\n",
       "      <th>Ticker</th>\n",
       "      <th>Stock Price</th>\n",
       "      <th>Market Capitalization</th>\n",
       "      <th>Number of shares to Buy</th>\n",
       "    </tr>\n",
       "  </thead>\n",
       "  <tbody>\n",
       "    <tr>\n",
       "      <th>0</th>\n",
       "      <td>A</td>\n",
       "      <td>111.370</td>\n",
       "      <td>32585444594</td>\n",
       "      <td>N/A</td>\n",
       "    </tr>\n",
       "    <tr>\n",
       "      <th>1</th>\n",
       "      <td>AAL</td>\n",
       "      <td>12.265</td>\n",
       "      <td>8015674846</td>\n",
       "      <td>N/A</td>\n",
       "    </tr>\n",
       "    <tr>\n",
       "      <th>2</th>\n",
       "      <td>AAP</td>\n",
       "      <td>58.630</td>\n",
       "      <td>3486741402</td>\n",
       "      <td>N/A</td>\n",
       "    </tr>\n",
       "    <tr>\n",
       "      <th>3</th>\n",
       "      <td>AAPL</td>\n",
       "      <td>187.130</td>\n",
       "      <td>2910386481760</td>\n",
       "      <td>N/A</td>\n",
       "    </tr>\n",
       "    <tr>\n",
       "      <th>4</th>\n",
       "      <td>ABBV</td>\n",
       "      <td>138.560</td>\n",
       "      <td>244632865054</td>\n",
       "      <td>N/A</td>\n",
       "    </tr>\n",
       "    <tr>\n",
       "      <th>...</th>\n",
       "      <td>...</td>\n",
       "      <td>...</td>\n",
       "      <td>...</td>\n",
       "      <td>...</td>\n",
       "    </tr>\n",
       "    <tr>\n",
       "      <th>491</th>\n",
       "      <td>YUM</td>\n",
       "      <td>127.380</td>\n",
       "      <td>35705660936</td>\n",
       "      <td>N/A</td>\n",
       "    </tr>\n",
       "    <tr>\n",
       "      <th>492</th>\n",
       "      <td>ZBH</td>\n",
       "      <td>107.830</td>\n",
       "      <td>22534390067</td>\n",
       "      <td>N/A</td>\n",
       "    </tr>\n",
       "    <tr>\n",
       "      <th>493</th>\n",
       "      <td>ZBRA</td>\n",
       "      <td>214.725</td>\n",
       "      <td>11028190969</td>\n",
       "      <td>N/A</td>\n",
       "    </tr>\n",
       "    <tr>\n",
       "      <th>494</th>\n",
       "      <td>ZION</td>\n",
       "      <td>35.190</td>\n",
       "      <td>5213356237</td>\n",
       "      <td>N/A</td>\n",
       "    </tr>\n",
       "    <tr>\n",
       "      <th>495</th>\n",
       "      <td>ZTS</td>\n",
       "      <td>173.430</td>\n",
       "      <td>79624087430</td>\n",
       "      <td>N/A</td>\n",
       "    </tr>\n",
       "  </tbody>\n",
       "</table>\n",
       "<p>496 rows × 4 columns</p>\n",
       "</div>"
      ],
      "text/plain": [
       "    Ticker  Stock Price Market Capitalization Number of shares to Buy\n",
       "0        A      111.370           32585444594                     N/A\n",
       "1      AAL       12.265            8015674846                     N/A\n",
       "2      AAP       58.630            3486741402                     N/A\n",
       "3     AAPL      187.130         2910386481760                     N/A\n",
       "4     ABBV      138.560          244632865054                     N/A\n",
       "..     ...          ...                   ...                     ...\n",
       "491    YUM      127.380           35705660936                     N/A\n",
       "492    ZBH      107.830           22534390067                     N/A\n",
       "493   ZBRA      214.725           11028190969                     N/A\n",
       "494   ZION       35.190            5213356237                     N/A\n",
       "495    ZTS      173.430           79624087430                     N/A\n",
       "\n",
       "[496 rows x 4 columns]"
      ]
     },
     "execution_count": 73,
     "metadata": {},
     "output_type": "execute_result"
    }
   ],
   "source": [
    "#creating a list of lists of each list having max size 100\n",
    "#bcz batch API calls 100 tickers per request\n",
    "\n",
    "symbol_groups = list(partition(stocks['Ticker'], 100))\n",
    "symbol_strings = [] # create empty string\n",
    "final_columns = [ 'Ticker', 'Stock Price', 'Market Capitalization', 'Number of shares to Buy']\n",
    "final_dataFrame = pd.DataFrame(columns = final_columns)\n",
    "\n",
    "# symbol_strings is list of list with each element separated by a comma\n",
    "for i in range(0, len(symbol_groups)):\n",
    "    symbol_strings.append(','.join(symbol_groups[i]))\n",
    "\n",
    "for i in symbol_strings:\n",
    "        batch_api_call_url = f'https://api.iex.cloud/v1/stock/market/batch/?types=quote&symbols={i}&token={IEX_CLOUD_API_TOKEN}'\n",
    "        data = requests.get(batch_api_call_url).json()\n",
    "        \n",
    "        for name in i.split(','):\n",
    "            new_columns=[name,data[name]['quote']['latestPrice'],data[name]['quote']['marketCap'],'N/A']\n",
    "            final_dataFrame.loc[len(final_dataFrame)] = new_columns\n",
    "final_dataFrame"
   ]
  },
  {
   "cell_type": "markdown",
   "metadata": {},
   "source": [
    "## Calculating the Number of Shares to Buy\n",
    "\n",
    "It's time to calculate the number of shares of each stock to buy.\n",
    "\n",
    "Portfolio size is the total amount an investor is willing to trade. It’s a crucial aspect of risk management, as it helps traders to control the amount they’re investing in any given trade and maximize the returns while minimizing potential losses."
   ]
  },
  {
   "cell_type": "code",
   "execution_count": 74,
   "metadata": {},
   "outputs": [
    {
     "name": "stdout",
     "output_type": "stream",
     "text": [
      "Enter the value of your portfolio:1000000\n"
     ]
    }
   ],
   "source": [
    "portfolio_size = input(\"Enter the value of your portfolio:\")\n",
    "\n",
    "try:\n",
    "    val = float(portfolio_size)\n",
    "except ValueError:\n",
    "    print(\"That's not a number! \\nTry again:\")\n",
    "    portfolio_size = input(\"Enter the value of your portfolio:\")"
   ]
  },
  {
   "cell_type": "markdown",
   "metadata": {},
   "source": [
    "Position size is the size of a position within a particular portfolio to help find how many units of security one can purchase, which helps them to control risk and maximize returns.\n",
    "\n",
    "Assuming equal weighted-index, trader will invest same amount in each stocks. Now, all that's left is to apply some basic maths. "
   ]
  },
  {
   "cell_type": "code",
   "execution_count": 75,
   "metadata": {
    "scrolled": true
   },
   "outputs": [
    {
     "data": {
      "text/html": [
       "<div>\n",
       "<style scoped>\n",
       "    .dataframe tbody tr th:only-of-type {\n",
       "        vertical-align: middle;\n",
       "    }\n",
       "\n",
       "    .dataframe tbody tr th {\n",
       "        vertical-align: top;\n",
       "    }\n",
       "\n",
       "    .dataframe thead th {\n",
       "        text-align: right;\n",
       "    }\n",
       "</style>\n",
       "<table border=\"1\" class=\"dataframe\">\n",
       "  <thead>\n",
       "    <tr style=\"text-align: right;\">\n",
       "      <th></th>\n",
       "      <th>Ticker</th>\n",
       "      <th>Stock Price</th>\n",
       "      <th>Market Capitalization</th>\n",
       "      <th>Number of shares to Buy</th>\n",
       "      <th>Number Of Shares to Buy</th>\n",
       "    </tr>\n",
       "  </thead>\n",
       "  <tbody>\n",
       "    <tr>\n",
       "      <th>0</th>\n",
       "      <td>A</td>\n",
       "      <td>111.370</td>\n",
       "      <td>32585444594</td>\n",
       "      <td>N/A</td>\n",
       "      <td>18.0</td>\n",
       "    </tr>\n",
       "    <tr>\n",
       "      <th>1</th>\n",
       "      <td>AAL</td>\n",
       "      <td>12.265</td>\n",
       "      <td>8015674846</td>\n",
       "      <td>N/A</td>\n",
       "      <td>164.0</td>\n",
       "    </tr>\n",
       "    <tr>\n",
       "      <th>2</th>\n",
       "      <td>AAP</td>\n",
       "      <td>58.630</td>\n",
       "      <td>3486741402</td>\n",
       "      <td>N/A</td>\n",
       "      <td>34.0</td>\n",
       "    </tr>\n",
       "    <tr>\n",
       "      <th>3</th>\n",
       "      <td>AAPL</td>\n",
       "      <td>187.130</td>\n",
       "      <td>2910386481760</td>\n",
       "      <td>N/A</td>\n",
       "      <td>10.0</td>\n",
       "    </tr>\n",
       "    <tr>\n",
       "      <th>4</th>\n",
       "      <td>ABBV</td>\n",
       "      <td>138.560</td>\n",
       "      <td>244632865054</td>\n",
       "      <td>N/A</td>\n",
       "      <td>14.0</td>\n",
       "    </tr>\n",
       "    <tr>\n",
       "      <th>...</th>\n",
       "      <td>...</td>\n",
       "      <td>...</td>\n",
       "      <td>...</td>\n",
       "      <td>...</td>\n",
       "      <td>...</td>\n",
       "    </tr>\n",
       "    <tr>\n",
       "      <th>491</th>\n",
       "      <td>YUM</td>\n",
       "      <td>127.380</td>\n",
       "      <td>35705660936</td>\n",
       "      <td>N/A</td>\n",
       "      <td>15.0</td>\n",
       "    </tr>\n",
       "    <tr>\n",
       "      <th>492</th>\n",
       "      <td>ZBH</td>\n",
       "      <td>107.830</td>\n",
       "      <td>22534390067</td>\n",
       "      <td>N/A</td>\n",
       "      <td>18.0</td>\n",
       "    </tr>\n",
       "    <tr>\n",
       "      <th>493</th>\n",
       "      <td>ZBRA</td>\n",
       "      <td>214.725</td>\n",
       "      <td>11028190969</td>\n",
       "      <td>N/A</td>\n",
       "      <td>9.0</td>\n",
       "    </tr>\n",
       "    <tr>\n",
       "      <th>494</th>\n",
       "      <td>ZION</td>\n",
       "      <td>35.190</td>\n",
       "      <td>5213356237</td>\n",
       "      <td>N/A</td>\n",
       "      <td>57.0</td>\n",
       "    </tr>\n",
       "    <tr>\n",
       "      <th>495</th>\n",
       "      <td>ZTS</td>\n",
       "      <td>173.430</td>\n",
       "      <td>79624087430</td>\n",
       "      <td>N/A</td>\n",
       "      <td>NaN</td>\n",
       "    </tr>\n",
       "  </tbody>\n",
       "</table>\n",
       "<p>496 rows × 5 columns</p>\n",
       "</div>"
      ],
      "text/plain": [
       "    Ticker  Stock Price Market Capitalization Number of shares to Buy  \\\n",
       "0        A      111.370           32585444594                     N/A   \n",
       "1      AAL       12.265            8015674846                     N/A   \n",
       "2      AAP       58.630            3486741402                     N/A   \n",
       "3     AAPL      187.130         2910386481760                     N/A   \n",
       "4     ABBV      138.560          244632865054                     N/A   \n",
       "..     ...          ...                   ...                     ...   \n",
       "491    YUM      127.380           35705660936                     N/A   \n",
       "492    ZBH      107.830           22534390067                     N/A   \n",
       "493   ZBRA      214.725           11028190969                     N/A   \n",
       "494   ZION       35.190            5213356237                     N/A   \n",
       "495    ZTS      173.430           79624087430                     N/A   \n",
       "\n",
       "     Number Of Shares to Buy  \n",
       "0                       18.0  \n",
       "1                      164.0  \n",
       "2                       34.0  \n",
       "3                       10.0  \n",
       "4                       14.0  \n",
       "..                       ...  \n",
       "491                     15.0  \n",
       "492                     18.0  \n",
       "493                      9.0  \n",
       "494                     57.0  \n",
       "495                      NaN  \n",
       "\n",
       "[496 rows x 5 columns]"
      ]
     },
     "execution_count": 75,
     "metadata": {},
     "output_type": "execute_result"
    }
   ],
   "source": [
    "position_size = float(portfolio_size) / len(final_dataFrame.index)\n",
    "for i in range(0, len(final_dataFrame['Ticker'])-1):\n",
    "    # add right side value to a new column in each row\n",
    "    final_dataFrame.loc[i, 'Number Of Shares to Buy'] = math.floor(position_size / final_dataFrame.loc[i, 'Stock Price'])\n",
    "final_dataFrame"
   ]
  },
  {
   "cell_type": "markdown",
   "metadata": {},
   "source": [
    "## Formatting Our Excel Output\n",
    "\n",
    "I am using the XlsxWriter library in Python to create nicely-formatted Excel files and save those excel documents from python script.\n",
    "XlsxWriter is an excellent package and offers tons of customization. However, it can seem very complicated to some users.\n",
    "\n",
    "Interested ones can refer - https://xlsxwriter.readthedocs.io/\n",
    "\n",
    "### Initializing our XlsxWriter Object"
   ]
  },
  {
   "cell_type": "markdown",
   "metadata": {},
   "source": [
    "This creates an excel file named `recommended_trades_s&p500.xlsx`"
   ]
  },
  {
   "cell_type": "code",
   "execution_count": 85,
   "metadata": {
    "scrolled": true
   },
   "outputs": [],
   "source": [
    "writer = pd.ExcelWriter('recommended_trades_s&p500.xlsx', engine='xlsxwriter')\n",
    "\n",
    "# the first thing is the name of the object and 2nd is the name of the tab we want it to save to.\n",
    "final_dataFrame.to_excel(writer, sheet_name='Recommended Trades', index = False)"
   ]
  },
  {
   "cell_type": "markdown",
   "metadata": {},
   "source": [
    "### Creating the Formats For Our `.xlsx` File\n",
    "\n",
    "Formats include colors, fonts, and also symbols like `%` and `$`. The four main formats for our Excel document:\n",
    "* String format for tickers\n",
    "* \\\\$XX.XX format for stock prices\n",
    "* \\\\$XX,XXX format for market capitalization\n",
    "* Integer format for the number of shares to purchase"
   ]
  },
  {
   "cell_type": "code",
   "execution_count": 86,
   "metadata": {},
   "outputs": [],
   "source": [
    "background_color = '#0a0a23'\n",
    "font_color = '#ffffff'\n",
    "\n",
    "string_format = writer.book.add_format(\n",
    "        {\n",
    "            'font_color': font_color,\n",
    "            'bg_color': background_color,\n",
    "            'border': 1\n",
    "        }\n",
    "    )\n",
    "\n",
    "dollar_format = writer.book.add_format(\n",
    "        {\n",
    "            'num_format':'$0.00',\n",
    "            'font_color': font_color,\n",
    "            'bg_color': background_color,\n",
    "            'border': 1\n",
    "        }\n",
    "    )\n",
    "\n",
    "integer_format = writer.book.add_format(\n",
    "        {\n",
    "            'num_format':'0',\n",
    "            'font_color': font_color,\n",
    "            'bg_color': background_color,\n",
    "            'border': 1\n",
    "        }\n",
    "    )"
   ]
  },
  {
   "cell_type": "markdown",
   "metadata": {},
   "source": [
    "### Applying the Formats to the Columns of `.xlsx` File\n",
    "\n",
    "Use the `set_column` method applied to the `writer.sheets['Recommended Trades']` object to apply formats to specific columns of our spreadsheets.\n",
    "\n",
    "Here's an example:\n",
    "\n",
    "```python\n",
    "writer.sheets['Recommended Trades'].set_column('B:B', # tells to apply the format to column B\n",
    "                                                18, # tells to apply a column width of 18 pixels\n",
    "                                                string_template #This applies the format 'string_template' to the column\n",
    "                                              )\n",
    "```"
   ]
  },
  {
   "cell_type": "code",
   "execution_count": 87,
   "metadata": {
    "scrolled": true
   },
   "outputs": [],
   "source": [
    "# writer.sheets['Recommended Trades'].write('A1', 'Ticker', string_format)\n",
    "# writer.sheets['Recommended Trades'].set_column('B:B', 20, dollar_format)\n",
    "# writer.sheets['Recommended Trades'].set_column('C:C', 20, dollar_format)\n",
    "# writer.sheets['Recommended Trades'].set_column('D:D', 20, integer_format)\n",
    "# writer.close()"
   ]
  },
  {
   "cell_type": "code",
   "execution_count": 88,
   "metadata": {},
   "outputs": [],
   "source": [
    "column_formats = { \n",
    "                    'A': ['Ticker', string_format],\n",
    "                    'B': ['Price', dollar_format],\n",
    "                    'C': ['Market Capitalization', dollar_format],\n",
    "                    'D': ['Number of Shares to Buy', integer_format],\n",
    "                    'E': ['Number of Shares to Buy', integer_format]\n",
    "                 }\n",
    "\n",
    "for i in column_formats.keys():\n",
    "    writer.sheets['Recommended Trades'].set_column(f'{i}:{i}', 20, column_formats[i][1])\n",
    "    writer.sheets['Recommended Trades'].write(f'{i}1', column_formats[i][0], column_formats[i][1])"
   ]
  },
  {
   "cell_type": "markdown",
   "metadata": {},
   "source": [
    "## Finally, saving the Excel Output !!"
   ]
  },
  {
   "cell_type": "code",
   "execution_count": 89,
   "metadata": {
    "scrolled": true
   },
   "outputs": [],
   "source": [
    "writer.close()"
   ]
  }
 ],
 "metadata": {
  "kernelspec": {
   "display_name": "Python 3 (ipykernel)",
   "language": "python",
   "name": "python3"
  },
  "language_info": {
   "codemirror_mode": {
    "name": "ipython",
    "version": 3
   },
   "file_extension": ".py",
   "mimetype": "text/x-python",
   "name": "python",
   "nbconvert_exporter": "python",
   "pygments_lexer": "ipython3",
   "version": "3.11.5"
  }
 },
 "nbformat": 4,
 "nbformat_minor": 4
}
